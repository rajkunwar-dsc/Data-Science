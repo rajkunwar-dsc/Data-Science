{
 "cells": [
  {
   "cell_type": "markdown",
   "metadata": {},
   "source": [
    "# NumPy \n",
    "\n",
    "NumPy (or Numpy) is a Linear Algebra Library for Python, the reason it is so important for Finance with Python is that almost all of the libraries in the PyData Ecosystem rely on NumPy as one of their main building blocks. Plus we will use it to generate data for our analysis examples later on!\n",
    "\n",
    "Numpy is also incredibly fast, as it has bindings to C libraries. For more info on why you would want to use Arrays instead of lists, check out this great [StackOverflow post](http://stackoverflow.com/questions/993984/why-numpy-instead-of-python-lists).\n",
    "\n",
    "We will only learn the basics of NumPy, to get started we need to install it!"
   ]
  },
  {
   "cell_type": "markdown",
   "metadata": {},
   "source": [
    "## Using NumPy\n",
    "\n",
    "Once you've installed NumPy you can import it as a library:"
   ]
  },
  {
   "cell_type": "code",
   "execution_count": 1,
   "metadata": {},
   "outputs": [],
   "source": [
    "import numpy as np"
   ]
  },
  {
   "cell_type": "markdown",
   "metadata": {},
   "source": [
    "Numpy has many built-in functions and capabilities. We won't cover them all but instead we will focus on some of the most important aspects of Numpy: vectors,arrays,matrices, and number generation. Let's start by discussing arrays.\n",
    "\n",
    "# Numpy Arrays\n",
    "\n",
    "NumPy arrays are the main way we will use Numpy throughout the course. Numpy arrays essentially come in two flavors: vectors and matrices. Vectors are strictly 1-d arrays and matrices are 2-d (but you should note a matrix can still have only one row or one column).\n",
    "\n",
    "Let's begin our introduction by exploring how to create NumPy arrays.\n",
    "\n",
    "## Creating NumPy Arrays\n",
    "\n",
    "### From a Python List\n",
    "\n",
    "We can create an array by directly converting a list or list of lists:"
   ]
  },
  {
   "cell_type": "code",
   "execution_count": 2,
   "metadata": {},
   "outputs": [
    {
     "data": {
      "text/plain": [
       "[1, 2, 3]"
      ]
     },
     "execution_count": 2,
     "metadata": {},
     "output_type": "execute_result"
    }
   ],
   "source": [
    "my_list = [1,2,3]\n",
    "my_list"
   ]
  },
  {
   "cell_type": "code",
   "execution_count": 3,
   "metadata": {},
   "outputs": [
    {
     "data": {
      "text/plain": [
       "array([1, 2, 3])"
      ]
     },
     "execution_count": 3,
     "metadata": {},
     "output_type": "execute_result"
    }
   ],
   "source": [
    "np.array(my_list)"
   ]
  },
  {
   "cell_type": "code",
   "execution_count": 4,
   "metadata": {},
   "outputs": [
    {
     "data": {
      "text/plain": [
       "[[1, 2, 3], [4, 5, 6], [7, 8, 9]]"
      ]
     },
     "execution_count": 4,
     "metadata": {},
     "output_type": "execute_result"
    }
   ],
   "source": [
    "my_matrix = [[1,2,3],[4,5,6],[7,8,9]]\n",
    "my_matrix"
   ]
  },
  {
   "cell_type": "code",
   "execution_count": 5,
   "metadata": {},
   "outputs": [
    {
     "data": {
      "text/plain": [
       "array([[1, 2, 3],\n",
       "       [4, 5, 6],\n",
       "       [7, 8, 9]])"
      ]
     },
     "execution_count": 5,
     "metadata": {},
     "output_type": "execute_result"
    }
   ],
   "source": [
    "np.array(my_matrix)"
   ]
  },
  {
   "cell_type": "markdown",
   "metadata": {},
   "source": [
    "## Built-in Methods\n",
    "\n",
    "There are lots of built-in ways to generate Arrays"
   ]
  },
  {
   "cell_type": "markdown",
   "metadata": {},
   "source": [
    "### arange\n",
    "\n",
    "Return evenly spaced values within a given interval."
   ]
  },
  {
   "cell_type": "code",
   "execution_count": 6,
   "metadata": {},
   "outputs": [
    {
     "data": {
      "text/plain": [
       "array([0, 1, 2, 3, 4, 5, 6, 7, 8, 9])"
      ]
     },
     "execution_count": 6,
     "metadata": {},
     "output_type": "execute_result"
    }
   ],
   "source": [
    "np.array(range(0,10))"
   ]
  },
  {
   "cell_type": "code",
   "execution_count": 7,
   "metadata": {},
   "outputs": [
    {
     "data": {
      "text/plain": [
       "array([0, 1, 2, 3, 4, 5, 6, 7, 8, 9])"
      ]
     },
     "execution_count": 7,
     "metadata": {},
     "output_type": "execute_result"
    }
   ],
   "source": [
    "np.arange(0,10)"
   ]
  },
  {
   "cell_type": "code",
   "execution_count": 8,
   "metadata": {},
   "outputs": [
    {
     "data": {
      "text/plain": [
       "array([ 0,  2,  4,  6,  8, 10])"
      ]
     },
     "execution_count": 8,
     "metadata": {},
     "output_type": "execute_result"
    }
   ],
   "source": [
    "np.arange(0,11,2)"
   ]
  },
  {
   "cell_type": "markdown",
   "metadata": {},
   "source": [
    "### zeros and ones\n",
    "\n",
    "Generate arrays of zeros or ones"
   ]
  },
  {
   "cell_type": "code",
   "execution_count": 9,
   "metadata": {},
   "outputs": [
    {
     "data": {
      "text/plain": [
       "array([0., 0., 0., 0., 0., 0.])"
      ]
     },
     "execution_count": 9,
     "metadata": {},
     "output_type": "execute_result"
    }
   ],
   "source": [
    "np.zeros(6)"
   ]
  },
  {
   "cell_type": "code",
   "execution_count": 11,
   "metadata": {},
   "outputs": [
    {
     "data": {
      "text/plain": [
       "array([[[0., 0., 0.],\n",
       "        [0., 0., 0.]],\n",
       "\n",
       "       [[0., 0., 0.],\n",
       "        [0., 0., 0.]],\n",
       "\n",
       "       [[0., 0., 0.],\n",
       "        [0., 0., 0.]],\n",
       "\n",
       "       [[0., 0., 0.],\n",
       "        [0., 0., 0.]],\n",
       "\n",
       "       [[0., 0., 0.],\n",
       "        [0., 0., 0.]]])"
      ]
     },
     "execution_count": 11,
     "metadata": {},
     "output_type": "execute_result"
    }
   ],
   "source": [
    "np.zeros((5,2,3))"
   ]
  },
  {
   "cell_type": "code",
   "execution_count": 12,
   "metadata": {},
   "outputs": [
    {
     "data": {
      "text/plain": [
       "array([1., 1., 1., 1., 1., 1.])"
      ]
     },
     "execution_count": 12,
     "metadata": {},
     "output_type": "execute_result"
    }
   ],
   "source": [
    "np.ones(6)"
   ]
  },
  {
   "cell_type": "code",
   "execution_count": 13,
   "metadata": {},
   "outputs": [
    {
     "data": {
      "text/plain": [
       "array([[[1., 1., 1.],\n",
       "        [1., 1., 1.],\n",
       "        [1., 1., 1.]],\n",
       "\n",
       "       [[1., 1., 1.],\n",
       "        [1., 1., 1.],\n",
       "        [1., 1., 1.]],\n",
       "\n",
       "       [[1., 1., 1.],\n",
       "        [1., 1., 1.],\n",
       "        [1., 1., 1.]]])"
      ]
     },
     "execution_count": 13,
     "metadata": {},
     "output_type": "execute_result"
    }
   ],
   "source": [
    "np.ones((3,3,3))"
   ]
  },
  {
   "cell_type": "markdown",
   "metadata": {},
   "source": [
    "### linspace\n",
    "Return evenly spaced numbers over a specified interval."
   ]
  },
  {
   "cell_type": "code",
   "execution_count": 16,
   "metadata": {},
   "outputs": [
    {
     "data": {
      "text/plain": [
       "array([ 0.        ,  0.1010101 ,  0.2020202 ,  0.3030303 ,  0.4040404 ,\n",
       "        0.50505051,  0.60606061,  0.70707071,  0.80808081,  0.90909091,\n",
       "        1.01010101,  1.11111111,  1.21212121,  1.31313131,  1.41414141,\n",
       "        1.51515152,  1.61616162,  1.71717172,  1.81818182,  1.91919192,\n",
       "        2.02020202,  2.12121212,  2.22222222,  2.32323232,  2.42424242,\n",
       "        2.52525253,  2.62626263,  2.72727273,  2.82828283,  2.92929293,\n",
       "        3.03030303,  3.13131313,  3.23232323,  3.33333333,  3.43434343,\n",
       "        3.53535354,  3.63636364,  3.73737374,  3.83838384,  3.93939394,\n",
       "        4.04040404,  4.14141414,  4.24242424,  4.34343434,  4.44444444,\n",
       "        4.54545455,  4.64646465,  4.74747475,  4.84848485,  4.94949495,\n",
       "        5.05050505,  5.15151515,  5.25252525,  5.35353535,  5.45454545,\n",
       "        5.55555556,  5.65656566,  5.75757576,  5.85858586,  5.95959596,\n",
       "        6.06060606,  6.16161616,  6.26262626,  6.36363636,  6.46464646,\n",
       "        6.56565657,  6.66666667,  6.76767677,  6.86868687,  6.96969697,\n",
       "        7.07070707,  7.17171717,  7.27272727,  7.37373737,  7.47474747,\n",
       "        7.57575758,  7.67676768,  7.77777778,  7.87878788,  7.97979798,\n",
       "        8.08080808,  8.18181818,  8.28282828,  8.38383838,  8.48484848,\n",
       "        8.58585859,  8.68686869,  8.78787879,  8.88888889,  8.98989899,\n",
       "        9.09090909,  9.19191919,  9.29292929,  9.39393939,  9.49494949,\n",
       "        9.5959596 ,  9.6969697 ,  9.7979798 ,  9.8989899 , 10.        ])"
      ]
     },
     "execution_count": 16,
     "metadata": {},
     "output_type": "execute_result"
    }
   ],
   "source": [
    "np.linspace(0,10,100)"
   ]
  },
  {
   "cell_type": "code",
   "execution_count": 19,
   "metadata": {},
   "outputs": [
    {
     "data": {
      "text/plain": [
       "[<matplotlib.lines.Line2D at 0x7fb8c90fa750>]"
      ]
     },
     "execution_count": 19,
     "metadata": {},
     "output_type": "execute_result"
    },
    {
     "data": {
      "image/png": "[encoded data removed]",
      "text/plain": [
       "<Figure size 432x288 with 1 Axes>"
      ]
     },
     "metadata": {
      "needs_background": "light"
     },
     "output_type": "display_data"
    }
   ],
   "source": [
    "import matplotlib.pyplot as plt\n",
    "%matplotlib inline\n",
    "\n",
    "plt.plot(np.linspace(0,10,1000000))"
   ]
  },
  {
   "cell_type": "code",
   "execution_count": 20,
   "metadata": {},
   "outputs": [
    {
     "data": {
      "text/plain": [
       "array([100.        , 100.1001001 , 100.2002002 , 100.3003003 ,\n",
       "       100.4004004 , 100.5005005 , 100.6006006 , 100.7007007 ,\n",
       "       100.8008008 , 100.9009009 , 101.001001  , 101.1011011 ,\n",
       "       101.2012012 , 101.3013013 , 101.4014014 , 101.5015015 ,\n",
       "       101.6016016 , 101.7017017 , 101.8018018 , 101.9019019 ,\n",
       "       102.002002  , 102.1021021 , 102.2022022 , 102.3023023 ,\n",
       "       102.4024024 , 102.5025025 , 102.6026026 , 102.7027027 ,\n",
       "       102.8028028 , 102.9029029 , 103.003003  , 103.1031031 ,\n",
       "       103.2032032 , 103.3033033 , 103.4034034 , 103.5035035 ,\n",
       "       103.6036036 , 103.7037037 , 103.8038038 , 103.9039039 ,\n",
       "       104.004004  , 104.1041041 , 104.2042042 , 104.3043043 ,\n",
       "       104.4044044 , 104.5045045 , 104.6046046 , 104.7047047 ,\n",
       "       104.8048048 , 104.9049049 , 105.00500501, 105.10510511,\n",
       "       105.20520521, 105.30530531, 105.40540541, 105.50550551,\n",
       "       105.60560561, 105.70570571, 105.80580581, 105.90590591,\n",
       "       106.00600601, 106.10610611, 106.20620621, 106.30630631,\n",
       "       106.40640641, 106.50650651, 106.60660661, 106.70670671,\n",
       "       106.80680681, 106.90690691, 107.00700701, 107.10710711,\n",
       "       107.20720721, 107.30730731, 107.40740741, 107.50750751,\n",
       "       107.60760761, 107.70770771, 107.80780781, 107.90790791,\n",
       "       108.00800801, 108.10810811, 108.20820821, 108.30830831,\n",
       "       108.40840841, 108.50850851, 108.60860861, 108.70870871,\n",
       "       108.80880881, 108.90890891, 109.00900901, 109.10910911,\n",
       "       109.20920921, 109.30930931, 109.40940941, 109.50950951,\n",
       "       109.60960961, 109.70970971, 109.80980981, 109.90990991,\n",
       "       110.01001001, 110.11011011, 110.21021021, 110.31031031,\n",
       "       110.41041041, 110.51051051, 110.61061061, 110.71071071,\n",
       "       110.81081081, 110.91091091, 111.01101101, 111.11111111,\n",
       "       111.21121121, 111.31131131, 111.41141141, 111.51151151,\n",
       "       111.61161161, 111.71171171, 111.81181181, 111.91191191,\n",
       "       112.01201201, 112.11211211, 112.21221221, 112.31231231,\n",
       "       112.41241241, 112.51251251, 112.61261261, 112.71271271,\n",
       "       112.81281281, 112.91291291, 113.01301301, 113.11311311,\n",
       "       113.21321321, 113.31331331, 113.41341341, 113.51351351,\n",
       "       113.61361361, 113.71371371, 113.81381381, 113.91391391,\n",
       "       114.01401401, 114.11411411, 114.21421421, 114.31431431,\n",
       "       114.41441441, 114.51451451, 114.61461461, 114.71471471,\n",
       "       114.81481481, 114.91491491, 115.01501502, 115.11511512,\n",
       "       115.21521522, 115.31531532, 115.41541542, 115.51551552,\n",
       "       115.61561562, 115.71571572, 115.81581582, 115.91591592,\n",
       "       116.01601602, 116.11611612, 116.21621622, 116.31631632,\n",
       "       116.41641642, 116.51651652, 116.61661662, 116.71671672,\n",
       "       116.81681682, 116.91691692, 117.01701702, 117.11711712,\n",
       "       117.21721722, 117.31731732, 117.41741742, 117.51751752,\n",
       "       117.61761762, 117.71771772, 117.81781782, 117.91791792,\n",
       "       118.01801802, 118.11811812, 118.21821822, 118.31831832,\n",
       "       118.41841842, 118.51851852, 118.61861862, 118.71871872,\n",
       "       118.81881882, 118.91891892, 119.01901902, 119.11911912,\n",
       "       119.21921922, 119.31931932, 119.41941942, 119.51951952,\n",
       "       119.61961962, 119.71971972, 119.81981982, 119.91991992,\n",
       "       120.02002002, 120.12012012, 120.22022022, 120.32032032,\n",
       "       120.42042042, 120.52052052, 120.62062062, 120.72072072,\n",
       "       120.82082082, 120.92092092, 121.02102102, 121.12112112,\n",
       "       121.22122122, 121.32132132, 121.42142142, 121.52152152,\n",
       "       121.62162162, 121.72172172, 121.82182182, 121.92192192,\n",
       "       122.02202202, 122.12212212, 122.22222222, 122.32232232,\n",
       "       122.42242242, 122.52252252, 122.62262262, 122.72272272,\n",
       "       122.82282282, 122.92292292, 123.02302302, 123.12312312,\n",
       "       123.22322322, 123.32332332, 123.42342342, 123.52352352,\n",
       "       123.62362362, 123.72372372, 123.82382382, 123.92392392,\n",
       "       124.02402402, 124.12412412, 124.22422422, 124.32432432,\n",
       "       124.42442442, 124.52452452, 124.62462462, 124.72472472,\n",
       "       124.82482482, 124.92492492, 125.02502503, 125.12512513,\n",
       "       125.22522523, 125.32532533, 125.42542543, 125.52552553,\n",
       "       125.62562563, 125.72572573, 125.82582583, 125.92592593,\n",
       "       126.02602603, 126.12612613, 126.22622623, 126.32632633,\n",
       "       126.42642643, 126.52652653, 126.62662663, 126.72672673,\n",
       "       126.82682683, 126.92692693, 127.02702703, 127.12712713,\n",
       "       127.22722723, 127.32732733, 127.42742743, 127.52752753,\n",
       "       127.62762763, 127.72772773, 127.82782783, 127.92792793,\n",
       "       128.02802803, 128.12812813, 128.22822823, 128.32832833,\n",
       "       128.42842843, 128.52852853, 128.62862863, 128.72872873,\n",
       "       128.82882883, 128.92892893, 129.02902903, 129.12912913,\n",
       "       129.22922923, 129.32932933, 129.42942943, 129.52952953,\n",
       "       129.62962963, 129.72972973, 129.82982983, 129.92992993,\n",
       "       130.03003003, 130.13013013, 130.23023023, 130.33033033,\n",
       "       130.43043043, 130.53053053, 130.63063063, 130.73073073,\n",
       "       130.83083083, 130.93093093, 131.03103103, 131.13113113,\n",
       "       131.23123123, 131.33133133, 131.43143143, 131.53153153,\n",
       "       131.63163163, 131.73173173, 131.83183183, 131.93193193,\n",
       "       132.03203203, 132.13213213, 132.23223223, 132.33233233,\n",
       "       132.43243243, 132.53253253, 132.63263263, 132.73273273,\n",
       "       132.83283283, 132.93293293, 133.03303303, 133.13313313,\n",
       "       133.23323323, 133.33333333, 133.43343343, 133.53353353,\n",
       "       133.63363363, 133.73373373, 133.83383383, 133.93393393,\n",
       "       134.03403403, 134.13413413, 134.23423423, 134.33433433,\n",
       "       134.43443443, 134.53453453, 134.63463463, 134.73473473,\n",
       "       134.83483483, 134.93493493, 135.03503504, 135.13513514,\n",
       "       135.23523524, 135.33533534, 135.43543544, 135.53553554,\n",
       "       135.63563564, 135.73573574, 135.83583584, 135.93593594,\n",
       "       136.03603604, 136.13613614, 136.23623624, 136.33633634,\n",
       "       136.43643644, 136.53653654, 136.63663664, 136.73673674,\n",
       "       136.83683684, 136.93693694, 137.03703704, 137.13713714,\n",
       "       137.23723724, 137.33733734, 137.43743744, 137.53753754,\n",
       "       137.63763764, 137.73773774, 137.83783784, 137.93793794,\n",
       "       138.03803804, 138.13813814, 138.23823824, 138.33833834,\n",
       "       138.43843844, 138.53853854, 138.63863864, 138.73873874,\n",
       "       138.83883884, 138.93893894, 139.03903904, 139.13913914,\n",
       "       139.23923924, 139.33933934, 139.43943944, 139.53953954,\n",
       "       139.63963964, 139.73973974, 139.83983984, 139.93993994,\n",
       "       140.04004004, 140.14014014, 140.24024024, 140.34034034,\n",
       "       140.44044044, 140.54054054, 140.64064064, 140.74074074,\n",
       "       140.84084084, 140.94094094, 141.04104104, 141.14114114,\n",
       "       141.24124124, 141.34134134, 141.44144144, 141.54154154,\n",
       "       141.64164164, 141.74174174, 141.84184184, 141.94194194,\n",
       "       142.04204204, 142.14214214, 142.24224224, 142.34234234,\n",
       "       142.44244244, 142.54254254, 142.64264264, 142.74274274,\n",
       "       142.84284284, 142.94294294, 143.04304304, 143.14314314,\n",
       "       143.24324324, 143.34334334, 143.44344344, 143.54354354,\n",
       "       143.64364364, 143.74374374, 143.84384384, 143.94394394,\n",
       "       144.04404404, 144.14414414, 144.24424424, 144.34434434,\n",
       "       144.44444444, 144.54454454, 144.64464464, 144.74474474,\n",
       "       144.84484484, 144.94494494, 145.04504505, 145.14514515,\n",
       "       145.24524525, 145.34534535, 145.44544545, 145.54554555,\n",
       "       145.64564565, 145.74574575, 145.84584585, 145.94594595,\n",
       "       146.04604605, 146.14614615, 146.24624625, 146.34634635,\n",
       "       146.44644645, 146.54654655, 146.64664665, 146.74674675,\n",
       "       146.84684685, 146.94694695, 147.04704705, 147.14714715,\n",
       "       147.24724725, 147.34734735, 147.44744745, 147.54754755,\n",
       "       147.64764765, 147.74774775, 147.84784785, 147.94794795,\n",
       "       148.04804805, 148.14814815, 148.24824825, 148.34834835,\n",
       "       148.44844845, 148.54854855, 148.64864865, 148.74874875,\n",
       "       148.84884885, 148.94894895, 149.04904905, 149.14914915,\n",
       "       149.24924925, 149.34934935, 149.44944945, 149.54954955,\n",
       "       149.64964965, 149.74974975, 149.84984985, 149.94994995,\n",
       "       150.05005005, 150.15015015, 150.25025025, 150.35035035,\n",
       "       150.45045045, 150.55055055, 150.65065065, 150.75075075,\n",
       "       150.85085085, 150.95095095, 151.05105105, 151.15115115,\n",
       "       151.25125125, 151.35135135, 151.45145145, 151.55155155,\n",
       "       151.65165165, 151.75175175, 151.85185185, 151.95195195,\n",
       "       152.05205205, 152.15215215, 152.25225225, 152.35235235,\n",
       "       152.45245245, 152.55255255, 152.65265265, 152.75275275,\n",
       "       152.85285285, 152.95295295, 153.05305305, 153.15315315,\n",
       "       153.25325325, 153.35335335, 153.45345345, 153.55355355,\n",
       "       153.65365365, 153.75375375, 153.85385385, 153.95395395,\n",
       "       154.05405405, 154.15415415, 154.25425425, 154.35435435,\n",
       "       154.45445445, 154.55455455, 154.65465465, 154.75475475,\n",
       "       154.85485485, 154.95495495, 155.05505506, 155.15515516,\n",
       "       155.25525526, 155.35535536, 155.45545546, 155.55555556,\n",
       "       155.65565566, 155.75575576, 155.85585586, 155.95595596,\n",
       "       156.05605606, 156.15615616, 156.25625626, 156.35635636,\n",
       "       156.45645646, 156.55655656, 156.65665666, 156.75675676,\n",
       "       156.85685686, 156.95695696, 157.05705706, 157.15715716,\n",
       "       157.25725726, 157.35735736, 157.45745746, 157.55755756,\n",
       "       157.65765766, 157.75775776, 157.85785786, 157.95795796,\n",
       "       158.05805806, 158.15815816, 158.25825826, 158.35835836,\n",
       "       158.45845846, 158.55855856, 158.65865866, 158.75875876,\n",
       "       158.85885886, 158.95895896, 159.05905906, 159.15915916,\n",
       "       159.25925926, 159.35935936, 159.45945946, 159.55955956,\n",
       "       159.65965966, 159.75975976, 159.85985986, 159.95995996,\n",
       "       160.06006006, 160.16016016, 160.26026026, 160.36036036,\n",
       "       160.46046046, 160.56056056, 160.66066066, 160.76076076,\n",
       "       160.86086086, 160.96096096, 161.06106106, 161.16116116,\n",
       "       161.26126126, 161.36136136, 161.46146146, 161.56156156,\n",
       "       161.66166166, 161.76176176, 161.86186186, 161.96196196,\n",
       "       162.06206206, 162.16216216, 162.26226226, 162.36236236,\n",
       "       162.46246246, 162.56256256, 162.66266266, 162.76276276,\n",
       "       162.86286286, 162.96296296, 163.06306306, 163.16316316,\n",
       "       163.26326326, 163.36336336, 163.46346346, 163.56356356,\n",
       "       163.66366366, 163.76376376, 163.86386386, 163.96396396,\n",
       "       164.06406406, 164.16416416, 164.26426426, 164.36436436,\n",
       "       164.46446446, 164.56456456, 164.66466466, 164.76476476,\n",
       "       164.86486486, 164.96496496, 165.06506507, 165.16516517,\n",
       "       165.26526527, 165.36536537, 165.46546547, 165.56556557,\n",
       "       165.66566567, 165.76576577, 165.86586587, 165.96596597,\n",
       "       166.06606607, 166.16616617, 166.26626627, 166.36636637,\n",
       "       166.46646647, 166.56656657, 166.66666667, 166.76676677,\n",
       "       166.86686687, 166.96696697, 167.06706707, 167.16716717,\n",
       "       167.26726727, 167.36736737, 167.46746747, 167.56756757,\n",
       "       167.66766767, 167.76776777, 167.86786787, 167.96796797,\n",
       "       168.06806807, 168.16816817, 168.26826827, 168.36836837,\n",
       "       168.46846847, 168.56856857, 168.66866867, 168.76876877,\n",
       "       168.86886887, 168.96896897, 169.06906907, 169.16916917,\n",
       "       169.26926927, 169.36936937, 169.46946947, 169.56956957,\n",
       "       169.66966967, 169.76976977, 169.86986987, 169.96996997,\n",
       "       170.07007007, 170.17017017, 170.27027027, 170.37037037,\n",
       "       170.47047047, 170.57057057, 170.67067067, 170.77077077,\n",
       "       170.87087087, 170.97097097, 171.07107107, 171.17117117,\n",
       "       171.27127127, 171.37137137, 171.47147147, 171.57157157,\n",
       "       171.67167167, 171.77177177, 171.87187187, 171.97197197,\n",
       "       172.07207207, 172.17217217, 172.27227227, 172.37237237,\n",
       "       172.47247247, 172.57257257, 172.67267267, 172.77277277,\n",
       "       172.87287287, 172.97297297, 173.07307307, 173.17317317,\n",
       "       173.27327327, 173.37337337, 173.47347347, 173.57357357,\n",
       "       173.67367367, 173.77377377, 173.87387387, 173.97397397,\n",
       "       174.07407407, 174.17417417, 174.27427427, 174.37437437,\n",
       "       174.47447447, 174.57457457, 174.67467467, 174.77477477,\n",
       "       174.87487487, 174.97497497, 175.07507508, 175.17517518,\n",
       "       175.27527528, 175.37537538, 175.47547548, 175.57557558,\n",
       "       175.67567568, 175.77577578, 175.87587588, 175.97597598,\n",
       "       176.07607608, 176.17617618, 176.27627628, 176.37637638,\n",
       "       176.47647648, 176.57657658, 176.67667668, 176.77677678,\n",
       "       176.87687688, 176.97697698, 177.07707708, 177.17717718,\n",
       "       177.27727728, 177.37737738, 177.47747748, 177.57757758,\n",
       "       177.67767768, 177.77777778, 177.87787788, 177.97797798,\n",
       "       178.07807808, 178.17817818, 178.27827828, 178.37837838,\n",
       "       178.47847848, 178.57857858, 178.67867868, 178.77877878,\n",
       "       178.87887888, 178.97897898, 179.07907908, 179.17917918,\n",
       "       179.27927928, 179.37937938, 179.47947948, 179.57957958,\n",
       "       179.67967968, 179.77977978, 179.87987988, 179.97997998,\n",
       "       180.08008008, 180.18018018, 180.28028028, 180.38038038,\n",
       "       180.48048048, 180.58058058, 180.68068068, 180.78078078,\n",
       "       180.88088088, 180.98098098, 181.08108108, 181.18118118,\n",
       "       181.28128128, 181.38138138, 181.48148148, 181.58158158,\n",
       "       181.68168168, 181.78178178, 181.88188188, 181.98198198,\n",
       "       182.08208208, 182.18218218, 182.28228228, 182.38238238,\n",
       "       182.48248248, 182.58258258, 182.68268268, 182.78278278,\n",
       "       182.88288288, 182.98298298, 183.08308308, 183.18318318,\n",
       "       183.28328328, 183.38338338, 183.48348348, 183.58358358,\n",
       "       183.68368368, 183.78378378, 183.88388388, 183.98398398,\n",
       "       184.08408408, 184.18418418, 184.28428428, 184.38438438,\n",
       "       184.48448448, 184.58458458, 184.68468468, 184.78478478,\n",
       "       184.88488488, 184.98498498, 185.08508509, 185.18518519,\n",
       "       185.28528529, 185.38538539, 185.48548549, 185.58558559,\n",
       "       185.68568569, 185.78578579, 185.88588589, 185.98598599,\n",
       "       186.08608609, 186.18618619, 186.28628629, 186.38638639,\n",
       "       186.48648649, 186.58658659, 186.68668669, 186.78678679,\n",
       "       186.88688689, 186.98698699, 187.08708709, 187.18718719,\n",
       "       187.28728729, 187.38738739, 187.48748749, 187.58758759,\n",
       "       187.68768769, 187.78778779, 187.88788789, 187.98798799,\n",
       "       188.08808809, 188.18818819, 188.28828829, 188.38838839,\n",
       "       188.48848849, 188.58858859, 188.68868869, 188.78878879,\n",
       "       188.88888889, 188.98898899, 189.08908909, 189.18918919,\n",
       "       189.28928929, 189.38938939, 189.48948949, 189.58958959,\n",
       "       189.68968969, 189.78978979, 189.88988989, 189.98998999,\n",
       "       190.09009009, 190.19019019, 190.29029029, 190.39039039,\n",
       "       190.49049049, 190.59059059, 190.69069069, 190.79079079,\n",
       "       190.89089089, 190.99099099, 191.09109109, 191.19119119,\n",
       "       191.29129129, 191.39139139, 191.49149149, 191.59159159,\n",
       "       191.69169169, 191.79179179, 191.89189189, 191.99199199,\n",
       "       192.09209209, 192.19219219, 192.29229229, 192.39239239,\n",
       "       192.49249249, 192.59259259, 192.69269269, 192.79279279,\n",
       "       192.89289289, 192.99299299, 193.09309309, 193.19319319,\n",
       "       193.29329329, 193.39339339, 193.49349349, 193.59359359,\n",
       "       193.69369369, 193.79379379, 193.89389389, 193.99399399,\n",
       "       194.09409409, 194.19419419, 194.29429429, 194.39439439,\n",
       "       194.49449449, 194.59459459, 194.69469469, 194.79479479,\n",
       "       194.89489489, 194.99499499, 195.0950951 , 195.1951952 ,\n",
       "       195.2952953 , 195.3953954 , 195.4954955 , 195.5955956 ,\n",
       "       195.6956957 , 195.7957958 , 195.8958959 , 195.995996  ,\n",
       "       196.0960961 , 196.1961962 , 196.2962963 , 196.3963964 ,\n",
       "       196.4964965 , 196.5965966 , 196.6966967 , 196.7967968 ,\n",
       "       196.8968969 , 196.996997  , 197.0970971 , 197.1971972 ,\n",
       "       197.2972973 , 197.3973974 , 197.4974975 , 197.5975976 ,\n",
       "       197.6976977 , 197.7977978 , 197.8978979 , 197.997998  ,\n",
       "       198.0980981 , 198.1981982 , 198.2982983 , 198.3983984 ,\n",
       "       198.4984985 , 198.5985986 , 198.6986987 , 198.7987988 ,\n",
       "       198.8988989 , 198.998999  , 199.0990991 , 199.1991992 ,\n",
       "       199.2992993 , 199.3993994 , 199.4994995 , 199.5995996 ,\n",
       "       199.6996997 , 199.7997998 , 199.8998999 , 200.        ])"
      ]
     },
     "execution_count": 20,
     "metadata": {},
     "output_type": "execute_result"
    }
   ],
   "source": [
    "np.linspace(100,200,1000)"
   ]
  },
  {
   "cell_type": "markdown",
   "metadata": {},
   "source": [
    "## eye\n",
    "\n",
    "Creates an identity matrix"
   ]
  },
  {
   "cell_type": "code",
   "execution_count": 22,
   "metadata": {},
   "outputs": [
    {
     "data": {
      "text/plain": [
       "array([[1., 0., 0., 0., 0.],\n",
       "       [0., 1., 0., 0., 0.],\n",
       "       [0., 0., 1., 0., 0.],\n",
       "       [0., 0., 0., 1., 0.],\n",
       "       [0., 0., 0., 0., 1.]])"
      ]
     },
     "execution_count": 22,
     "metadata": {},
     "output_type": "execute_result"
    }
   ],
   "source": [
    "np.eye(5)"
   ]
  },
  {
   "cell_type": "markdown",
   "metadata": {},
   "source": [
    "## Random \n",
    "\n",
    "Numpy also has lots of ways to create random number arrays:\n",
    "\n",
    "### rand\n",
    "\n",
    "#### Create an array of the given shape and populate it with random samples from a uniform distribution over ``[0, 1)``."
   ]
  },
  {
   "cell_type": "code",
   "execution_count": 53,
   "metadata": {},
   "outputs": [
    {
     "data": {
      "text/plain": [
       "array([0.39361978, 0.82874199, 0.94487668, 0.31986982, 0.99121252])"
      ]
     },
     "execution_count": 53,
     "metadata": {},
     "output_type": "execute_result"
    }
   ],
   "source": [
    "np.random.rand(5)"
   ]
  },
  {
   "cell_type": "code",
   "execution_count": 66,
   "metadata": {},
   "outputs": [
    {
     "data": {
      "text/plain": [
       "array([[0.38827086, 0.63981347],\n",
       "       [0.72889729, 0.60980243],\n",
       "       [0.32604679, 0.07382382],\n",
       "       [0.85811616, 0.895211  ],\n",
       "       [0.76607609, 0.65917575]])"
      ]
     },
     "execution_count": 66,
     "metadata": {},
     "output_type": "execute_result"
    }
   ],
   "source": [
    "np.random.rand(5,2)"
   ]
  },
  {
   "cell_type": "markdown",
   "metadata": {},
   "source": [
    "### randn\n",
    "\n",
    "Return a sample (or samples) from the \"standard normal\" distribution. Unlike rand which is uniform:"
   ]
  },
  {
   "cell_type": "code",
   "execution_count": 55,
   "metadata": {},
   "outputs": [
    {
     "data": {
      "text/plain": [
       "array([ 0.87340502, -0.2808779 ,  0.07040658, -0.07221488, -0.63926769,\n",
       "       -0.56379945,  0.18133634, -0.56737943,  1.81743843, -0.84923623,\n",
       "       -0.61988575,  0.45237523, -1.02542855,  0.58881105,  1.13296905,\n",
       "       -0.06662041,  0.50187309, -0.47376692,  0.11414631,  0.67073902])"
      ]
     },
     "execution_count": 55,
     "metadata": {},
     "output_type": "execute_result"
    }
   ],
   "source": [
    "np.random.randn(20)"
   ]
  },
  {
   "cell_type": "code",
   "execution_count": 79,
   "metadata": {},
   "outputs": [
    {
     "data": {
      "text/plain": [
       "array([[-0.5929088 ,  2.36011944,  0.11935751, -0.09883929,  0.52613459],\n",
       "       [-0.04661295, -0.26798201, -0.0292863 , -1.8175151 , -0.76651094],\n",
       "       [ 0.48421656,  0.28620582,  1.82639354,  0.18963652,  1.74446481],\n",
       "       [ 0.19245298,  2.1331717 , -0.60083996, -1.42857201, -0.47146786],\n",
       "       [-0.90759642, -0.66423483, -0.92625239, -1.06127733,  1.26040577]])"
      ]
     },
     "execution_count": 79,
     "metadata": {},
     "output_type": "execute_result"
    }
   ],
   "source": [
    "np.random.randn(5,5)"
   ]
  },
  {
   "cell_type": "markdown",
   "metadata": {},
   "source": [
    "### randint\n",
    "Return random integers from `low` (inclusive) to `high` (exclusive)."
   ]
  },
  {
   "cell_type": "code",
   "execution_count": 38,
   "metadata": {},
   "outputs": [
    {
     "data": {
      "text/plain": [
       "5"
      ]
     },
     "execution_count": 38,
     "metadata": {},
     "output_type": "execute_result"
    }
   ],
   "source": [
    "np.random.randint(1,100)"
   ]
  },
  {
   "cell_type": "code",
   "execution_count": 45,
   "metadata": {},
   "outputs": [
    {
     "data": {
      "text/plain": [
       "array([56, 81, 44, 46, 45, 79, 12, 24, 11, 59])"
      ]
     },
     "execution_count": 45,
     "metadata": {},
     "output_type": "execute_result"
    }
   ],
   "source": [
    "np.random.randint(1,100,10)"
   ]
  },
  {
   "cell_type": "markdown",
   "metadata": {},
   "source": [
    "## Array Attributes and Methods\n",
    "\n",
    "Let's discuss some useful attributes and methods or an array:"
   ]
  },
  {
   "cell_type": "code",
   "execution_count": 69,
   "metadata": {},
   "outputs": [],
   "source": [
    "arr = np.arange(25)\n",
    "ranarr = np.random.randint(0,50,10)\n",
    "ranarr_2d = np.random.randint(0,100,20)"
   ]
  },
  {
   "cell_type": "code",
   "execution_count": 60,
   "metadata": {},
   "outputs": [
    {
     "data": {
      "text/plain": [
       "array([ 0,  1,  2,  3,  4,  5,  6,  7,  8,  9, 10, 11, 12, 13, 14, 15, 16,\n",
       "       17, 18, 19, 20, 21, 22, 23, 24])"
      ]
     },
     "execution_count": 60,
     "metadata": {},
     "output_type": "execute_result"
    }
   ],
   "source": [
    "arr"
   ]
  },
  {
   "cell_type": "code",
   "execution_count": 61,
   "metadata": {},
   "outputs": [
    {
     "data": {
      "text/plain": [
       "array([23, 21, 39, 23, 18, 18, 21, 23,  2, 12])"
      ]
     },
     "execution_count": 61,
     "metadata": {},
     "output_type": "execute_result"
    }
   ],
   "source": [
    "ranarr"
   ]
  },
  {
   "cell_type": "code",
   "execution_count": 62,
   "metadata": {},
   "outputs": [
    {
     "data": {
      "text/plain": [
       "array([91, 87, 59, 68, 18, 98, 85, 31, 62, 12, 30, 50, 10, 53, 79, 64, 14,\n",
       "       80, 56, 36])"
      ]
     },
     "execution_count": 62,
     "metadata": {},
     "output_type": "execute_result"
    }
   ],
   "source": [
    "ranarr_2d"
   ]
  },
  {
   "cell_type": "markdown",
   "metadata": {},
   "source": [
    "## Reshape\n",
    "Returns an array containing the same data with a new shape."
   ]
  },
  {
   "cell_type": "code",
   "execution_count": 64,
   "metadata": {},
   "outputs": [
    {
     "data": {
      "text/plain": [
       "array([[23, 21],\n",
       "       [39, 23],\n",
       "       [18, 18],\n",
       "       [21, 23],\n",
       "       [ 2, 12]])"
      ]
     },
     "execution_count": 64,
     "metadata": {},
     "output_type": "execute_result"
    }
   ],
   "source": [
    "ranarr.reshape(5,2)"
   ]
  },
  {
   "cell_type": "code",
   "execution_count": 70,
   "metadata": {},
   "outputs": [
    {
     "data": {
      "text/plain": [
       "array([[[ 0, 28, 47, 56, 19],\n",
       "        [35, 28, 96,  2, 90]],\n",
       "\n",
       "       [[61, 84, 60, 94, 25],\n",
       "        [54, 44, 16, 66, 20]]])"
      ]
     },
     "execution_count": 70,
     "metadata": {},
     "output_type": "execute_result"
    }
   ],
   "source": [
    "ranarr_2d = ranarr_2d.reshape(2,2,5)\n",
    "ranarr_2d"
   ]
  },
  {
   "cell_type": "code",
   "execution_count": 74,
   "metadata": {},
   "outputs": [
    {
     "data": {
      "text/plain": [
       "array([[[ 0],\n",
       "        [28]],\n",
       "\n",
       "       [[47],\n",
       "        [56]],\n",
       "\n",
       "       [[19],\n",
       "        [35]],\n",
       "\n",
       "       [[28],\n",
       "        [96]],\n",
       "\n",
       "       [[ 2],\n",
       "        [90]],\n",
       "\n",
       "       [[61],\n",
       "        [84]],\n",
       "\n",
       "       [[60],\n",
       "        [94]],\n",
       "\n",
       "       [[25],\n",
       "        [54]],\n",
       "\n",
       "       [[44],\n",
       "        [16]],\n",
       "\n",
       "       [[66],\n",
       "        [20]]])"
      ]
     },
     "execution_count": 74,
     "metadata": {},
     "output_type": "execute_result"
    }
   ],
   "source": [
    "ranarr_2d.reshape(10,2,-1)"
   ]
  },
  {
   "cell_type": "code",
   "execution_count": 75,
   "metadata": {},
   "outputs": [
    {
     "ename": "ValueError",
     "evalue": "cannot reshape array of size 10 into shape (5,3)",
     "output_type": "error",
     "traceback": [
      "\u001b[0;31m---------------------------------------------------------------------------\u001b[0m",
      "\u001b[0;31mValueError\u001b[0m                                Traceback (most recent call last)",
      "\u001b[0;32m<ipython-input-75-0e54c7a8acf4>\u001b[0m in \u001b[0;36m<module>\u001b[0;34m\u001b[0m\n\u001b[0;32m----> 1\u001b[0;31m \u001b[0mranarr\u001b[0m\u001b[0;34m.\u001b[0m\u001b[0mreshape\u001b[0m\u001b[0;34m(\u001b[0m\u001b[0;36m5\u001b[0m\u001b[0;34m,\u001b[0m\u001b[0;36m3\u001b[0m\u001b[0;34m)\u001b[0m\u001b[0;34m\u001b[0m\u001b[0;34m\u001b[0m\u001b[0m\n\u001b[0m",
      "\u001b[0;31mValueError\u001b[0m: cannot reshape array of size 10 into shape (5,3)"
     ]
    }
   ],
   "source": [
    "ranarr.reshape(5,3)"
   ]
  },
  {
   "cell_type": "markdown",
   "metadata": {},
   "source": [
    "### max,min,argmax,argmin\n",
    "\n",
    "These are useful methods for finding max or min values. Or to find their index locations using argmin or argmax"
   ]
  },
  {
   "cell_type": "code",
   "execution_count": 76,
   "metadata": {},
   "outputs": [
    {
     "data": {
      "text/plain": [
       "array([ 2,  6, 18, 25, 29,  8, 19, 20, 41, 20])"
      ]
     },
     "execution_count": 76,
     "metadata": {},
     "output_type": "execute_result"
    }
   ],
   "source": [
    "ranarr"
   ]
  },
  {
   "cell_type": "code",
   "execution_count": 78,
   "metadata": {},
   "outputs": [
    {
     "data": {
      "text/plain": [
       "41"
      ]
     },
     "execution_count": 78,
     "metadata": {},
     "output_type": "execute_result"
    }
   ],
   "source": [
    "ranarr.max()"
   ]
  },
  {
   "cell_type": "code",
   "execution_count": 80,
   "metadata": {},
   "outputs": [
    {
     "data": {
      "text/plain": [
       "8"
      ]
     },
     "execution_count": 80,
     "metadata": {},
     "output_type": "execute_result"
    }
   ],
   "source": [
    "ranarr.argmax()"
   ]
  },
  {
   "cell_type": "code",
   "execution_count": 79,
   "metadata": {},
   "outputs": [
    {
     "data": {
      "text/plain": [
       "2"
      ]
     },
     "execution_count": 79,
     "metadata": {},
     "output_type": "execute_result"
    }
   ],
   "source": [
    "ranarr.min()"
   ]
  },
  {
   "cell_type": "code",
   "execution_count": 81,
   "metadata": {},
   "outputs": [
    {
     "data": {
      "text/plain": [
       "0"
      ]
     },
     "execution_count": 81,
     "metadata": {},
     "output_type": "execute_result"
    }
   ],
   "source": [
    "ranarr.argmin()"
   ]
  },
  {
   "cell_type": "markdown",
   "metadata": {},
   "source": [
    "## Shape\n",
    "\n",
    "Shape is an attribute that arrays have (not a method):"
   ]
  },
  {
   "cell_type": "code",
   "execution_count": 83,
   "metadata": {},
   "outputs": [
    {
     "data": {
      "text/plain": [
       "(2, 2, 5)"
      ]
     },
     "execution_count": 83,
     "metadata": {},
     "output_type": "execute_result"
    }
   ],
   "source": [
    "# Vector\n",
    "ranarr_2d.shape"
   ]
  },
  {
   "cell_type": "code",
   "execution_count": 120,
   "metadata": {},
   "outputs": [
    {
     "data": {
      "text/plain": [
       "array([ 0,  1,  2,  3,  4,  5,  6,  7,  8,  9, 10, 11, 12, 13, 14, 15, 16,\n",
       "       17, 18, 19, 20, 21, 22, 23, 24])"
      ]
     },
     "execution_count": 120,
     "metadata": {},
     "output_type": "execute_result"
    }
   ],
   "source": [
    "arr"
   ]
  },
  {
   "cell_type": "code",
   "execution_count": 121,
   "metadata": {},
   "outputs": [
    {
     "data": {
      "text/plain": [
       "array([[ 0,  1,  2,  3,  4,  5,  6,  7,  8,  9, 10, 11, 12, 13, 14, 15,\n",
       "        16, 17, 18, 19, 20, 21, 22, 23, 24]])"
      ]
     },
     "execution_count": 121,
     "metadata": {},
     "output_type": "execute_result"
    }
   ],
   "source": [
    "# Notice the two sets of brackets\n",
    "arr.reshape(1,25)"
   ]
  },
  {
   "cell_type": "code",
   "execution_count": 122,
   "metadata": {},
   "outputs": [
    {
     "data": {
      "text/plain": [
       "(1, 25)"
      ]
     },
     "execution_count": 122,
     "metadata": {},
     "output_type": "execute_result"
    }
   ],
   "source": [
    "arr.reshape(1,25).shape"
   ]
  },
  {
   "cell_type": "code",
   "execution_count": 124,
   "metadata": {},
   "outputs": [],
   "source": [
    "ranarr = ranarr.reshape(2,5)"
   ]
  },
  {
   "cell_type": "code",
   "execution_count": 125,
   "metadata": {},
   "outputs": [
    {
     "data": {
      "text/plain": [
       "array([[ 3, 15,  8, 35, 29],\n",
       "       [31,  9,  1, 48, 22]])"
      ]
     },
     "execution_count": 125,
     "metadata": {},
     "output_type": "execute_result"
    }
   ],
   "source": [
    "ranarr"
   ]
  },
  {
   "cell_type": "code",
   "execution_count": 126,
   "metadata": {},
   "outputs": [
    {
     "data": {
      "text/plain": [
       "(2, 5)"
      ]
     },
     "execution_count": 126,
     "metadata": {},
     "output_type": "execute_result"
    }
   ],
   "source": [
    "ranarr.shape"
   ]
  },
  {
   "cell_type": "markdown",
   "metadata": {},
   "source": [
    "### dtype\n",
    "\n",
    "You can also grab the data type of the object in the array:"
   ]
  },
  {
   "cell_type": "code",
   "execution_count": 127,
   "metadata": {},
   "outputs": [
    {
     "data": {
      "text/plain": [
       "dtype('int64')"
      ]
     },
     "execution_count": 127,
     "metadata": {},
     "output_type": "execute_result"
    }
   ],
   "source": [
    "arr.dtype"
   ]
  },
  {
   "cell_type": "code",
   "execution_count": 84,
   "metadata": {},
   "outputs": [
    {
     "data": {
      "text/plain": [
       "dtype('float64')"
      ]
     },
     "execution_count": 84,
     "metadata": {},
     "output_type": "execute_result"
    }
   ],
   "source": [
    "np.random.randn(10).dtype"
   ]
  }
 ],
 "metadata": {
  "anaconda-cloud": {},
  "kernelspec": {
   "display_name": "Python 3",
   "language": "python",
   "name": "python3"
  },
  "language_info": {
   "codemirror_mode": {
    "name": "ipython",
    "version": 3
   },
   "file_extension": ".py",
   "mimetype": "text/x-python",
   "name": "python",
   "nbconvert_exporter": "python",
   "pygments_lexer": "ipython3",
   "version": "3.7.3"
  }
 },
 "nbformat": 4,
 "nbformat_minor": 1
}
